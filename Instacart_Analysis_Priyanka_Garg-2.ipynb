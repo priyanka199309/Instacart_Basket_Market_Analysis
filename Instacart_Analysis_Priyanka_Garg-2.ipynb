{
 "cells": [
  {
   "cell_type": "code",
   "execution_count": 4,
   "id": "24473439-7e56-470a-80fb-1c633efa5cb6",
   "metadata": {},
   "outputs": [],
   "source": [
    "import numpy as np\n",
    "import pandas as pd\n",
    "import matplotlib.pyplot as plt\n",
    "import seaborn as sns\n",
    "#to ignore warnings\n",
    "import warnings\n",
    "warnings.filterwarnings('ignore')"
   ]
  },
  {
   "cell_type": "markdown",
   "id": "dff0e857-9eea-491a-8164-2c231bbd4a04",
   "metadata": {},
   "source": [
    "READING DATASETS"
   ]
  },
  {
   "cell_type": "code",
   "execution_count": null,
   "id": "ec088416-9ac0-4421-a74f-067820a21ec4",
   "metadata": {},
   "outputs": [],
   "source": [
    "#head will display the Top 5 oberservations of the each datasets\n",
    "# we have multiple datasets here\n",
    "#order_products__*.csv\n",
    "#These files specify which products were purchased in each order. \n",
    "#order_products__prior.csv contains previous order contents for all customers. 'reordered' indicates that the customer has a previous order \n",
    "#that contains the product. Note that some orders will have no reordered items. You may predict an explicit 'None' value for orders with \n",
    "#no reordered items. See the evaluation page for full details.\n",
    "\n",
    "#This file tells to which set (prior, train, test) an order belongs. You are predicting reordered items only for the test set orders. 'order_dow' is the day of week.\n"
   ]
  },
  {
   "cell_type": "code",
   "execution_count": 2,
   "id": "5c886738-7a52-4315-b67c-9e727385ce45",
   "metadata": {},
   "outputs": [],
   "source": [
    "aisles = pd.read_csv(\"aisles.csv\")"
   ]
  },
  {
   "cell_type": "code",
   "execution_count": 3,
   "id": "78a2cb9a-8941-450a-9361-0b38893fdda1",
   "metadata": {},
   "outputs": [],
   "source": [
    "departments = pd.read_csv(\"departments.csv\")"
   ]
  },
  {
   "cell_type": "code",
   "execution_count": 4,
   "id": "3c810473-48ac-4409-a71a-7674672cf2ef",
   "metadata": {},
   "outputs": [],
   "source": [
    "order_products__train = pd.read_csv(\"order_products__train.csv\")"
   ]
  },
  {
   "cell_type": "code",
   "execution_count": 7,
   "id": "0370d4c3-7615-4f48-a664-7264a5ee2283",
   "metadata": {},
   "outputs": [],
   "source": [
    "order_products_prior = pd.read_csv(\"order_products_prior.csv\",on_bad_lines=\"skip\")\n"
   ]
  },
  {
   "cell_type": "code",
   "execution_count": 6,
   "id": "8de9c766-fb16-4cd6-b2bc-b761ef8cbc3f",
   "metadata": {},
   "outputs": [],
   "source": [
    "sample_submission = pd.read_csv(\"sample_submission.csv\")"
   ]
  },
  {
   "cell_type": "code",
   "execution_count": 10,
   "id": "45cdf8f0-69c0-4d18-9a9b-cef7ae5895fe",
   "metadata": {},
   "outputs": [],
   "source": [
    "orders = pd.read_csv(\"orders.csv\")"
   ]
  },
  {
   "cell_type": "code",
   "execution_count": 9,
   "id": "67bc4fc6-42d6-4c89-8ef9-1acac5756eb1",
   "metadata": {},
   "outputs": [],
   "source": [
    "products = pd.read_csv(\"products.csv\")"
   ]
  },
  {
   "cell_type": "code",
   "execution_count": 9,
   "id": "2330fddb-dd13-49f4-b0be-d1d5ea671aa2",
   "metadata": {},
   "outputs": [],
   "source": [
    "#head() will display the Top 5 obeservations of the datasets"
   ]
  },
  {
   "cell_type": "code",
   "execution_count": 15,
   "id": "9b588a2f-75fa-4cbb-96ef-90a610740c8e",
   "metadata": {},
   "outputs": [
    {
     "data": {
      "text/html": [
       "<div>\n",
       "<style scoped>\n",
       "    .dataframe tbody tr th:only-of-type {\n",
       "        vertical-align: middle;\n",
       "    }\n",
       "\n",
       "    .dataframe tbody tr th {\n",
       "        vertical-align: top;\n",
       "    }\n",
       "\n",
       "    .dataframe thead th {\n",
       "        text-align: right;\n",
       "    }\n",
       "</style>\n",
       "<table border=\"1\" class=\"dataframe\">\n",
       "  <thead>\n",
       "    <tr style=\"text-align: right;\">\n",
       "      <th></th>\n",
       "      <th>aisle_id</th>\n",
       "      <th>aisle</th>\n",
       "    </tr>\n",
       "  </thead>\n",
       "  <tbody>\n",
       "    <tr>\n",
       "      <th>0</th>\n",
       "      <td>1</td>\n",
       "      <td>prepared soups salads</td>\n",
       "    </tr>\n",
       "    <tr>\n",
       "      <th>1</th>\n",
       "      <td>2</td>\n",
       "      <td>specialty cheeses</td>\n",
       "    </tr>\n",
       "    <tr>\n",
       "      <th>2</th>\n",
       "      <td>3</td>\n",
       "      <td>energy granola bars</td>\n",
       "    </tr>\n",
       "    <tr>\n",
       "      <th>3</th>\n",
       "      <td>4</td>\n",
       "      <td>instant foods</td>\n",
       "    </tr>\n",
       "    <tr>\n",
       "      <th>4</th>\n",
       "      <td>5</td>\n",
       "      <td>marinades meat preparation</td>\n",
       "    </tr>\n",
       "    <tr>\n",
       "      <th>5</th>\n",
       "      <td>6</td>\n",
       "      <td>other</td>\n",
       "    </tr>\n",
       "    <tr>\n",
       "      <th>6</th>\n",
       "      <td>7</td>\n",
       "      <td>packaged meat</td>\n",
       "    </tr>\n",
       "    <tr>\n",
       "      <th>7</th>\n",
       "      <td>8</td>\n",
       "      <td>bakery desserts</td>\n",
       "    </tr>\n",
       "    <tr>\n",
       "      <th>8</th>\n",
       "      <td>9</td>\n",
       "      <td>pasta sauce</td>\n",
       "    </tr>\n",
       "    <tr>\n",
       "      <th>9</th>\n",
       "      <td>10</td>\n",
       "      <td>kitchen supplies</td>\n",
       "    </tr>\n",
       "    <tr>\n",
       "      <th>10</th>\n",
       "      <td>11</td>\n",
       "      <td>cold flu allergy</td>\n",
       "    </tr>\n",
       "    <tr>\n",
       "      <th>11</th>\n",
       "      <td>12</td>\n",
       "      <td>fresh pasta</td>\n",
       "    </tr>\n",
       "    <tr>\n",
       "      <th>12</th>\n",
       "      <td>13</td>\n",
       "      <td>prepared meals</td>\n",
       "    </tr>\n",
       "    <tr>\n",
       "      <th>13</th>\n",
       "      <td>14</td>\n",
       "      <td>tofu meat alternatives</td>\n",
       "    </tr>\n",
       "    <tr>\n",
       "      <th>14</th>\n",
       "      <td>15</td>\n",
       "      <td>packaged seafood</td>\n",
       "    </tr>\n",
       "    <tr>\n",
       "      <th>15</th>\n",
       "      <td>16</td>\n",
       "      <td>fresh herbs</td>\n",
       "    </tr>\n",
       "    <tr>\n",
       "      <th>16</th>\n",
       "      <td>17</td>\n",
       "      <td>baking ingredients</td>\n",
       "    </tr>\n",
       "    <tr>\n",
       "      <th>17</th>\n",
       "      <td>18</td>\n",
       "      <td>bulk dried fruits vegetables</td>\n",
       "    </tr>\n",
       "    <tr>\n",
       "      <th>18</th>\n",
       "      <td>19</td>\n",
       "      <td>oils vinegars</td>\n",
       "    </tr>\n",
       "    <tr>\n",
       "      <th>19</th>\n",
       "      <td>20</td>\n",
       "      <td>oral hygiene</td>\n",
       "    </tr>\n",
       "    <tr>\n",
       "      <th>20</th>\n",
       "      <td>21</td>\n",
       "      <td>packaged cheese</td>\n",
       "    </tr>\n",
       "    <tr>\n",
       "      <th>21</th>\n",
       "      <td>22</td>\n",
       "      <td>hair care</td>\n",
       "    </tr>\n",
       "    <tr>\n",
       "      <th>22</th>\n",
       "      <td>23</td>\n",
       "      <td>popcorn jerky</td>\n",
       "    </tr>\n",
       "    <tr>\n",
       "      <th>23</th>\n",
       "      <td>24</td>\n",
       "      <td>fresh fruits</td>\n",
       "    </tr>\n",
       "    <tr>\n",
       "      <th>24</th>\n",
       "      <td>25</td>\n",
       "      <td>soap</td>\n",
       "    </tr>\n",
       "    <tr>\n",
       "      <th>25</th>\n",
       "      <td>26</td>\n",
       "      <td>coffee</td>\n",
       "    </tr>\n",
       "    <tr>\n",
       "      <th>26</th>\n",
       "      <td>27</td>\n",
       "      <td>beers coolers</td>\n",
       "    </tr>\n",
       "    <tr>\n",
       "      <th>27</th>\n",
       "      <td>28</td>\n",
       "      <td>red wines</td>\n",
       "    </tr>\n",
       "    <tr>\n",
       "      <th>28</th>\n",
       "      <td>29</td>\n",
       "      <td>honeys syrups nectars</td>\n",
       "    </tr>\n",
       "    <tr>\n",
       "      <th>29</th>\n",
       "      <td>30</td>\n",
       "      <td>latino foods</td>\n",
       "    </tr>\n",
       "    <tr>\n",
       "      <th>30</th>\n",
       "      <td>31</td>\n",
       "      <td>refrigerated</td>\n",
       "    </tr>\n",
       "    <tr>\n",
       "      <th>31</th>\n",
       "      <td>32</td>\n",
       "      <td>packaged produce</td>\n",
       "    </tr>\n",
       "    <tr>\n",
       "      <th>32</th>\n",
       "      <td>33</td>\n",
       "      <td>kosher foods</td>\n",
       "    </tr>\n",
       "    <tr>\n",
       "      <th>33</th>\n",
       "      <td>34</td>\n",
       "      <td>frozen meat seafood</td>\n",
       "    </tr>\n",
       "    <tr>\n",
       "      <th>34</th>\n",
       "      <td>35</td>\n",
       "      <td>poultry counter</td>\n",
       "    </tr>\n",
       "    <tr>\n",
       "      <th>35</th>\n",
       "      <td>36</td>\n",
       "      <td>butter</td>\n",
       "    </tr>\n",
       "    <tr>\n",
       "      <th>36</th>\n",
       "      <td>37</td>\n",
       "      <td>ice cream ice</td>\n",
       "    </tr>\n",
       "    <tr>\n",
       "      <th>37</th>\n",
       "      <td>38</td>\n",
       "      <td>frozen meals</td>\n",
       "    </tr>\n",
       "    <tr>\n",
       "      <th>38</th>\n",
       "      <td>39</td>\n",
       "      <td>seafood counter</td>\n",
       "    </tr>\n",
       "    <tr>\n",
       "      <th>39</th>\n",
       "      <td>40</td>\n",
       "      <td>dog food care</td>\n",
       "    </tr>\n",
       "    <tr>\n",
       "      <th>40</th>\n",
       "      <td>41</td>\n",
       "      <td>cat food care</td>\n",
       "    </tr>\n",
       "    <tr>\n",
       "      <th>41</th>\n",
       "      <td>42</td>\n",
       "      <td>frozen vegan vegetarian</td>\n",
       "    </tr>\n",
       "    <tr>\n",
       "      <th>42</th>\n",
       "      <td>43</td>\n",
       "      <td>buns rolls</td>\n",
       "    </tr>\n",
       "    <tr>\n",
       "      <th>43</th>\n",
       "      <td>44</td>\n",
       "      <td>eye ear care</td>\n",
       "    </tr>\n",
       "    <tr>\n",
       "      <th>44</th>\n",
       "      <td>45</td>\n",
       "      <td>candy chocolate</td>\n",
       "    </tr>\n",
       "    <tr>\n",
       "      <th>45</th>\n",
       "      <td>46</td>\n",
       "      <td>mint gum</td>\n",
       "    </tr>\n",
       "    <tr>\n",
       "      <th>46</th>\n",
       "      <td>47</td>\n",
       "      <td>vitamins supplements</td>\n",
       "    </tr>\n",
       "    <tr>\n",
       "      <th>47</th>\n",
       "      <td>48</td>\n",
       "      <td>breakfast bars pastries</td>\n",
       "    </tr>\n",
       "    <tr>\n",
       "      <th>48</th>\n",
       "      <td>49</td>\n",
       "      <td>packaged poultry</td>\n",
       "    </tr>\n",
       "    <tr>\n",
       "      <th>49</th>\n",
       "      <td>50</td>\n",
       "      <td>fruit vegetable snacks</td>\n",
       "    </tr>\n",
       "    <tr>\n",
       "      <th>50</th>\n",
       "      <td>51</td>\n",
       "      <td>preserved dips spreads</td>\n",
       "    </tr>\n",
       "    <tr>\n",
       "      <th>51</th>\n",
       "      <td>52</td>\n",
       "      <td>frozen breakfast</td>\n",
       "    </tr>\n",
       "    <tr>\n",
       "      <th>52</th>\n",
       "      <td>53</td>\n",
       "      <td>cream</td>\n",
       "    </tr>\n",
       "    <tr>\n",
       "      <th>53</th>\n",
       "      <td>54</td>\n",
       "      <td>paper goods</td>\n",
       "    </tr>\n",
       "    <tr>\n",
       "      <th>54</th>\n",
       "      <td>55</td>\n",
       "      <td>shave needs</td>\n",
       "    </tr>\n",
       "    <tr>\n",
       "      <th>55</th>\n",
       "      <td>56</td>\n",
       "      <td>diapers wipes</td>\n",
       "    </tr>\n",
       "    <tr>\n",
       "      <th>56</th>\n",
       "      <td>57</td>\n",
       "      <td>granola</td>\n",
       "    </tr>\n",
       "    <tr>\n",
       "      <th>57</th>\n",
       "      <td>58</td>\n",
       "      <td>frozen breads doughs</td>\n",
       "    </tr>\n",
       "    <tr>\n",
       "      <th>58</th>\n",
       "      <td>59</td>\n",
       "      <td>canned meals beans</td>\n",
       "    </tr>\n",
       "    <tr>\n",
       "      <th>59</th>\n",
       "      <td>60</td>\n",
       "      <td>trash bags liners</td>\n",
       "    </tr>\n",
       "    <tr>\n",
       "      <th>60</th>\n",
       "      <td>61</td>\n",
       "      <td>cookies cakes</td>\n",
       "    </tr>\n",
       "    <tr>\n",
       "      <th>61</th>\n",
       "      <td>62</td>\n",
       "      <td>white wines</td>\n",
       "    </tr>\n",
       "    <tr>\n",
       "      <th>62</th>\n",
       "      <td>63</td>\n",
       "      <td>grains rice dried goods</td>\n",
       "    </tr>\n",
       "    <tr>\n",
       "      <th>63</th>\n",
       "      <td>64</td>\n",
       "      <td>energy sports drinks</td>\n",
       "    </tr>\n",
       "    <tr>\n",
       "      <th>64</th>\n",
       "      <td>65</td>\n",
       "      <td>protein meal replacements</td>\n",
       "    </tr>\n",
       "    <tr>\n",
       "      <th>65</th>\n",
       "      <td>66</td>\n",
       "      <td>asian foods</td>\n",
       "    </tr>\n",
       "    <tr>\n",
       "      <th>66</th>\n",
       "      <td>67</td>\n",
       "      <td>fresh dips tapenades</td>\n",
       "    </tr>\n",
       "    <tr>\n",
       "      <th>67</th>\n",
       "      <td>68</td>\n",
       "      <td>bulk grains rice dried goods</td>\n",
       "    </tr>\n",
       "    <tr>\n",
       "      <th>68</th>\n",
       "      <td>69</td>\n",
       "      <td>soup broth bouillon</td>\n",
       "    </tr>\n",
       "    <tr>\n",
       "      <th>69</th>\n",
       "      <td>70</td>\n",
       "      <td>digestion</td>\n",
       "    </tr>\n",
       "    <tr>\n",
       "      <th>70</th>\n",
       "      <td>71</td>\n",
       "      <td>refrigerated pudding desserts</td>\n",
       "    </tr>\n",
       "    <tr>\n",
       "      <th>71</th>\n",
       "      <td>72</td>\n",
       "      <td>condiments</td>\n",
       "    </tr>\n",
       "    <tr>\n",
       "      <th>72</th>\n",
       "      <td>73</td>\n",
       "      <td>facial care</td>\n",
       "    </tr>\n",
       "    <tr>\n",
       "      <th>73</th>\n",
       "      <td>74</td>\n",
       "      <td>dish detergents</td>\n",
       "    </tr>\n",
       "    <tr>\n",
       "      <th>74</th>\n",
       "      <td>75</td>\n",
       "      <td>laundry</td>\n",
       "    </tr>\n",
       "    <tr>\n",
       "      <th>75</th>\n",
       "      <td>76</td>\n",
       "      <td>indian foods</td>\n",
       "    </tr>\n",
       "    <tr>\n",
       "      <th>76</th>\n",
       "      <td>77</td>\n",
       "      <td>soft drinks</td>\n",
       "    </tr>\n",
       "    <tr>\n",
       "      <th>77</th>\n",
       "      <td>78</td>\n",
       "      <td>crackers</td>\n",
       "    </tr>\n",
       "    <tr>\n",
       "      <th>78</th>\n",
       "      <td>79</td>\n",
       "      <td>frozen pizza</td>\n",
       "    </tr>\n",
       "    <tr>\n",
       "      <th>79</th>\n",
       "      <td>80</td>\n",
       "      <td>deodorants</td>\n",
       "    </tr>\n",
       "    <tr>\n",
       "      <th>80</th>\n",
       "      <td>81</td>\n",
       "      <td>canned jarred vegetables</td>\n",
       "    </tr>\n",
       "    <tr>\n",
       "      <th>81</th>\n",
       "      <td>82</td>\n",
       "      <td>baby accessories</td>\n",
       "    </tr>\n",
       "    <tr>\n",
       "      <th>82</th>\n",
       "      <td>83</td>\n",
       "      <td>fresh vegetables</td>\n",
       "    </tr>\n",
       "    <tr>\n",
       "      <th>83</th>\n",
       "      <td>84</td>\n",
       "      <td>milk</td>\n",
       "    </tr>\n",
       "    <tr>\n",
       "      <th>84</th>\n",
       "      <td>85</td>\n",
       "      <td>food storage</td>\n",
       "    </tr>\n",
       "    <tr>\n",
       "      <th>85</th>\n",
       "      <td>86</td>\n",
       "      <td>eggs</td>\n",
       "    </tr>\n",
       "    <tr>\n",
       "      <th>86</th>\n",
       "      <td>87</td>\n",
       "      <td>more household</td>\n",
       "    </tr>\n",
       "    <tr>\n",
       "      <th>87</th>\n",
       "      <td>88</td>\n",
       "      <td>spreads</td>\n",
       "    </tr>\n",
       "    <tr>\n",
       "      <th>88</th>\n",
       "      <td>89</td>\n",
       "      <td>salad dressing toppings</td>\n",
       "    </tr>\n",
       "    <tr>\n",
       "      <th>89</th>\n",
       "      <td>90</td>\n",
       "      <td>cocoa drink mixes</td>\n",
       "    </tr>\n",
       "    <tr>\n",
       "      <th>90</th>\n",
       "      <td>91</td>\n",
       "      <td>soy lactosefree</td>\n",
       "    </tr>\n",
       "    <tr>\n",
       "      <th>91</th>\n",
       "      <td>92</td>\n",
       "      <td>baby food formula</td>\n",
       "    </tr>\n",
       "    <tr>\n",
       "      <th>92</th>\n",
       "      <td>93</td>\n",
       "      <td>breakfast bakery</td>\n",
       "    </tr>\n",
       "    <tr>\n",
       "      <th>93</th>\n",
       "      <td>94</td>\n",
       "      <td>tea</td>\n",
       "    </tr>\n",
       "    <tr>\n",
       "      <th>94</th>\n",
       "      <td>95</td>\n",
       "      <td>canned meat seafood</td>\n",
       "    </tr>\n",
       "    <tr>\n",
       "      <th>95</th>\n",
       "      <td>96</td>\n",
       "      <td>lunch meat</td>\n",
       "    </tr>\n",
       "    <tr>\n",
       "      <th>96</th>\n",
       "      <td>97</td>\n",
       "      <td>baking supplies decor</td>\n",
       "    </tr>\n",
       "    <tr>\n",
       "      <th>97</th>\n",
       "      <td>98</td>\n",
       "      <td>juice nectars</td>\n",
       "    </tr>\n",
       "    <tr>\n",
       "      <th>98</th>\n",
       "      <td>99</td>\n",
       "      <td>canned fruit applesauce</td>\n",
       "    </tr>\n",
       "    <tr>\n",
       "      <th>99</th>\n",
       "      <td>100</td>\n",
       "      <td>missing</td>\n",
       "    </tr>\n",
       "    <tr>\n",
       "      <th>100</th>\n",
       "      <td>101</td>\n",
       "      <td>air fresheners candles</td>\n",
       "    </tr>\n",
       "    <tr>\n",
       "      <th>101</th>\n",
       "      <td>102</td>\n",
       "      <td>baby bath body care</td>\n",
       "    </tr>\n",
       "    <tr>\n",
       "      <th>102</th>\n",
       "      <td>103</td>\n",
       "      <td>ice cream toppings</td>\n",
       "    </tr>\n",
       "    <tr>\n",
       "      <th>103</th>\n",
       "      <td>104</td>\n",
       "      <td>spices seasonings</td>\n",
       "    </tr>\n",
       "    <tr>\n",
       "      <th>104</th>\n",
       "      <td>105</td>\n",
       "      <td>doughs gelatins bake mixes</td>\n",
       "    </tr>\n",
       "    <tr>\n",
       "      <th>105</th>\n",
       "      <td>106</td>\n",
       "      <td>hot dogs bacon sausage</td>\n",
       "    </tr>\n",
       "    <tr>\n",
       "      <th>106</th>\n",
       "      <td>107</td>\n",
       "      <td>chips pretzels</td>\n",
       "    </tr>\n",
       "    <tr>\n",
       "      <th>107</th>\n",
       "      <td>108</td>\n",
       "      <td>other creams cheeses</td>\n",
       "    </tr>\n",
       "    <tr>\n",
       "      <th>108</th>\n",
       "      <td>109</td>\n",
       "      <td>skin care</td>\n",
       "    </tr>\n",
       "    <tr>\n",
       "      <th>109</th>\n",
       "      <td>110</td>\n",
       "      <td>pickled goods olives</td>\n",
       "    </tr>\n",
       "    <tr>\n",
       "      <th>110</th>\n",
       "      <td>111</td>\n",
       "      <td>plates bowls cups flatware</td>\n",
       "    </tr>\n",
       "    <tr>\n",
       "      <th>111</th>\n",
       "      <td>112</td>\n",
       "      <td>bread</td>\n",
       "    </tr>\n",
       "    <tr>\n",
       "      <th>112</th>\n",
       "      <td>113</td>\n",
       "      <td>frozen juice</td>\n",
       "    </tr>\n",
       "    <tr>\n",
       "      <th>113</th>\n",
       "      <td>114</td>\n",
       "      <td>cleaning products</td>\n",
       "    </tr>\n",
       "    <tr>\n",
       "      <th>114</th>\n",
       "      <td>115</td>\n",
       "      <td>water seltzer sparkling water</td>\n",
       "    </tr>\n",
       "    <tr>\n",
       "      <th>115</th>\n",
       "      <td>116</td>\n",
       "      <td>frozen produce</td>\n",
       "    </tr>\n",
       "    <tr>\n",
       "      <th>116</th>\n",
       "      <td>117</td>\n",
       "      <td>nuts seeds dried fruit</td>\n",
       "    </tr>\n",
       "    <tr>\n",
       "      <th>117</th>\n",
       "      <td>118</td>\n",
       "      <td>first aid</td>\n",
       "    </tr>\n",
       "    <tr>\n",
       "      <th>118</th>\n",
       "      <td>119</td>\n",
       "      <td>frozen dessert</td>\n",
       "    </tr>\n",
       "    <tr>\n",
       "      <th>119</th>\n",
       "      <td>120</td>\n",
       "      <td>yogurt</td>\n",
       "    </tr>\n",
       "    <tr>\n",
       "      <th>120</th>\n",
       "      <td>121</td>\n",
       "      <td>cereal</td>\n",
       "    </tr>\n",
       "    <tr>\n",
       "      <th>121</th>\n",
       "      <td>122</td>\n",
       "      <td>meat counter</td>\n",
       "    </tr>\n",
       "    <tr>\n",
       "      <th>122</th>\n",
       "      <td>123</td>\n",
       "      <td>packaged vegetables fruits</td>\n",
       "    </tr>\n",
       "    <tr>\n",
       "      <th>123</th>\n",
       "      <td>124</td>\n",
       "      <td>spirits</td>\n",
       "    </tr>\n",
       "    <tr>\n",
       "      <th>124</th>\n",
       "      <td>125</td>\n",
       "      <td>trail mix snack mix</td>\n",
       "    </tr>\n",
       "    <tr>\n",
       "      <th>125</th>\n",
       "      <td>126</td>\n",
       "      <td>feminine care</td>\n",
       "    </tr>\n",
       "    <tr>\n",
       "      <th>126</th>\n",
       "      <td>127</td>\n",
       "      <td>body lotions soap</td>\n",
       "    </tr>\n",
       "    <tr>\n",
       "      <th>127</th>\n",
       "      <td>128</td>\n",
       "      <td>tortillas flat bread</td>\n",
       "    </tr>\n",
       "    <tr>\n",
       "      <th>128</th>\n",
       "      <td>129</td>\n",
       "      <td>frozen appetizers sides</td>\n",
       "    </tr>\n",
       "    <tr>\n",
       "      <th>129</th>\n",
       "      <td>130</td>\n",
       "      <td>hot cereal pancake mixes</td>\n",
       "    </tr>\n",
       "    <tr>\n",
       "      <th>130</th>\n",
       "      <td>131</td>\n",
       "      <td>dry pasta</td>\n",
       "    </tr>\n",
       "    <tr>\n",
       "      <th>131</th>\n",
       "      <td>132</td>\n",
       "      <td>beauty</td>\n",
       "    </tr>\n",
       "    <tr>\n",
       "      <th>132</th>\n",
       "      <td>133</td>\n",
       "      <td>muscles joints pain relief</td>\n",
       "    </tr>\n",
       "    <tr>\n",
       "      <th>133</th>\n",
       "      <td>134</td>\n",
       "      <td>specialty wines champagnes</td>\n",
       "    </tr>\n",
       "  </tbody>\n",
       "</table>\n",
       "</div>"
      ],
      "text/plain": [
       "     aisle_id                          aisle\n",
       "0           1          prepared soups salads\n",
       "1           2              specialty cheeses\n",
       "2           3            energy granola bars\n",
       "3           4                  instant foods\n",
       "4           5     marinades meat preparation\n",
       "5           6                          other\n",
       "6           7                  packaged meat\n",
       "7           8                bakery desserts\n",
       "8           9                    pasta sauce\n",
       "9          10               kitchen supplies\n",
       "10         11               cold flu allergy\n",
       "11         12                    fresh pasta\n",
       "12         13                 prepared meals\n",
       "13         14         tofu meat alternatives\n",
       "14         15               packaged seafood\n",
       "15         16                    fresh herbs\n",
       "16         17             baking ingredients\n",
       "17         18   bulk dried fruits vegetables\n",
       "18         19                  oils vinegars\n",
       "19         20                   oral hygiene\n",
       "20         21                packaged cheese\n",
       "21         22                      hair care\n",
       "22         23                  popcorn jerky\n",
       "23         24                   fresh fruits\n",
       "24         25                           soap\n",
       "25         26                         coffee\n",
       "26         27                  beers coolers\n",
       "27         28                      red wines\n",
       "28         29          honeys syrups nectars\n",
       "29         30                   latino foods\n",
       "30         31                   refrigerated\n",
       "31         32               packaged produce\n",
       "32         33                   kosher foods\n",
       "33         34            frozen meat seafood\n",
       "34         35                poultry counter\n",
       "35         36                         butter\n",
       "36         37                  ice cream ice\n",
       "37         38                   frozen meals\n",
       "38         39                seafood counter\n",
       "39         40                  dog food care\n",
       "40         41                  cat food care\n",
       "41         42        frozen vegan vegetarian\n",
       "42         43                     buns rolls\n",
       "43         44                   eye ear care\n",
       "44         45                candy chocolate\n",
       "45         46                       mint gum\n",
       "46         47           vitamins supplements\n",
       "47         48        breakfast bars pastries\n",
       "48         49               packaged poultry\n",
       "49         50         fruit vegetable snacks\n",
       "50         51         preserved dips spreads\n",
       "51         52               frozen breakfast\n",
       "52         53                          cream\n",
       "53         54                    paper goods\n",
       "54         55                    shave needs\n",
       "55         56                  diapers wipes\n",
       "56         57                        granola\n",
       "57         58           frozen breads doughs\n",
       "58         59             canned meals beans\n",
       "59         60              trash bags liners\n",
       "60         61                  cookies cakes\n",
       "61         62                    white wines\n",
       "62         63        grains rice dried goods\n",
       "63         64           energy sports drinks\n",
       "64         65      protein meal replacements\n",
       "65         66                    asian foods\n",
       "66         67           fresh dips tapenades\n",
       "67         68   bulk grains rice dried goods\n",
       "68         69            soup broth bouillon\n",
       "69         70                      digestion\n",
       "70         71  refrigerated pudding desserts\n",
       "71         72                     condiments\n",
       "72         73                    facial care\n",
       "73         74                dish detergents\n",
       "74         75                        laundry\n",
       "75         76                   indian foods\n",
       "76         77                    soft drinks\n",
       "77         78                       crackers\n",
       "78         79                   frozen pizza\n",
       "79         80                     deodorants\n",
       "80         81       canned jarred vegetables\n",
       "81         82               baby accessories\n",
       "82         83               fresh vegetables\n",
       "83         84                           milk\n",
       "84         85                   food storage\n",
       "85         86                           eggs\n",
       "86         87                 more household\n",
       "87         88                        spreads\n",
       "88         89        salad dressing toppings\n",
       "89         90              cocoa drink mixes\n",
       "90         91                soy lactosefree\n",
       "91         92              baby food formula\n",
       "92         93               breakfast bakery\n",
       "93         94                            tea\n",
       "94         95            canned meat seafood\n",
       "95         96                     lunch meat\n",
       "96         97          baking supplies decor\n",
       "97         98                  juice nectars\n",
       "98         99        canned fruit applesauce\n",
       "99        100                        missing\n",
       "100       101         air fresheners candles\n",
       "101       102            baby bath body care\n",
       "102       103             ice cream toppings\n",
       "103       104              spices seasonings\n",
       "104       105     doughs gelatins bake mixes\n",
       "105       106         hot dogs bacon sausage\n",
       "106       107                 chips pretzels\n",
       "107       108           other creams cheeses\n",
       "108       109                      skin care\n",
       "109       110           pickled goods olives\n",
       "110       111     plates bowls cups flatware\n",
       "111       112                          bread\n",
       "112       113                   frozen juice\n",
       "113       114              cleaning products\n",
       "114       115  water seltzer sparkling water\n",
       "115       116                 frozen produce\n",
       "116       117         nuts seeds dried fruit\n",
       "117       118                      first aid\n",
       "118       119                 frozen dessert\n",
       "119       120                         yogurt\n",
       "120       121                         cereal\n",
       "121       122                   meat counter\n",
       "122       123     packaged vegetables fruits\n",
       "123       124                        spirits\n",
       "124       125            trail mix snack mix\n",
       "125       126                  feminine care\n",
       "126       127              body lotions soap\n",
       "127       128           tortillas flat bread\n",
       "128       129        frozen appetizers sides\n",
       "129       130       hot cereal pancake mixes\n",
       "130       131                      dry pasta\n",
       "131       132                         beauty\n",
       "132       133     muscles joints pain relief\n",
       "133       134     specialty wines champagnes"
      ]
     },
     "execution_count": 15,
     "metadata": {},
     "output_type": "execute_result"
    }
   ],
   "source": [
    "aisles.head(134)"
   ]
  },
  {
   "cell_type": "code",
   "execution_count": 11,
   "id": "8aaf3da3-f8e2-4e0d-a456-c2fe2719b0cd",
   "metadata": {},
   "outputs": [],
   "source": [
    "#to display all the rows "
   ]
  },
  {
   "cell_type": "code",
   "execution_count": 14,
   "id": "66361107-4546-4768-83af-7fe7a78a7057",
   "metadata": {},
   "outputs": [],
   "source": [
    "pd.set_option(\"display.max_rows\",134)"
   ]
  },
  {
   "cell_type": "code",
   "execution_count": 13,
   "id": "731c897d-2e29-47d2-b3e3-aec184f1c9da",
   "metadata": {},
   "outputs": [
    {
     "data": {
      "text/html": [
       "<div>\n",
       "<style scoped>\n",
       "    .dataframe tbody tr th:only-of-type {\n",
       "        vertical-align: middle;\n",
       "    }\n",
       "\n",
       "    .dataframe tbody tr th {\n",
       "        vertical-align: top;\n",
       "    }\n",
       "\n",
       "    .dataframe thead th {\n",
       "        text-align: right;\n",
       "    }\n",
       "</style>\n",
       "<table border=\"1\" class=\"dataframe\">\n",
       "  <thead>\n",
       "    <tr style=\"text-align: right;\">\n",
       "      <th></th>\n",
       "      <th>count</th>\n",
       "      <th>mean</th>\n",
       "      <th>std</th>\n",
       "      <th>min</th>\n",
       "      <th>25%</th>\n",
       "      <th>50%</th>\n",
       "      <th>75%</th>\n",
       "      <th>max</th>\n",
       "    </tr>\n",
       "  </thead>\n",
       "  <tbody>\n",
       "    <tr>\n",
       "      <th>aisle_id</th>\n",
       "      <td>134.0</td>\n",
       "      <td>67.5</td>\n",
       "      <td>38.826537</td>\n",
       "      <td>1.0</td>\n",
       "      <td>34.25</td>\n",
       "      <td>67.5</td>\n",
       "      <td>100.75</td>\n",
       "      <td>134.0</td>\n",
       "    </tr>\n",
       "  </tbody>\n",
       "</table>\n",
       "</div>"
      ],
      "text/plain": [
       "          count  mean        std  min    25%   50%     75%    max\n",
       "aisle_id  134.0  67.5  38.826537  1.0  34.25  67.5  100.75  134.0"
      ]
     },
     "execution_count": 13,
     "metadata": {},
     "output_type": "execute_result"
    }
   ],
   "source": [
    "aisles.describe().T"
   ]
  },
  {
   "cell_type": "code",
   "execution_count": 16,
   "id": "f8ee289d-7b2e-4390-afe6-9cc6410e0b2f",
   "metadata": {},
   "outputs": [
    {
     "data": {
      "text/html": [
       "<div>\n",
       "<style scoped>\n",
       "    .dataframe tbody tr th:only-of-type {\n",
       "        vertical-align: middle;\n",
       "    }\n",
       "\n",
       "    .dataframe tbody tr th {\n",
       "        vertical-align: top;\n",
       "    }\n",
       "\n",
       "    .dataframe thead th {\n",
       "        text-align: right;\n",
       "    }\n",
       "</style>\n",
       "<table border=\"1\" class=\"dataframe\">\n",
       "  <thead>\n",
       "    <tr style=\"text-align: right;\">\n",
       "      <th></th>\n",
       "      <th>department_id</th>\n",
       "      <th>department</th>\n",
       "    </tr>\n",
       "  </thead>\n",
       "  <tbody>\n",
       "    <tr>\n",
       "      <th>0</th>\n",
       "      <td>1</td>\n",
       "      <td>frozen</td>\n",
       "    </tr>\n",
       "    <tr>\n",
       "      <th>1</th>\n",
       "      <td>2</td>\n",
       "      <td>other</td>\n",
       "    </tr>\n",
       "    <tr>\n",
       "      <th>2</th>\n",
       "      <td>3</td>\n",
       "      <td>bakery</td>\n",
       "    </tr>\n",
       "    <tr>\n",
       "      <th>3</th>\n",
       "      <td>4</td>\n",
       "      <td>produce</td>\n",
       "    </tr>\n",
       "    <tr>\n",
       "      <th>4</th>\n",
       "      <td>5</td>\n",
       "      <td>alcohol</td>\n",
       "    </tr>\n",
       "  </tbody>\n",
       "</table>\n",
       "</div>"
      ],
      "text/plain": [
       "   department_id department\n",
       "0              1     frozen\n",
       "1              2      other\n",
       "2              3     bakery\n",
       "3              4    produce\n",
       "4              5    alcohol"
      ]
     },
     "execution_count": 16,
     "metadata": {},
     "output_type": "execute_result"
    }
   ],
   "source": [
    "departments.head()"
   ]
  },
  {
   "cell_type": "code",
   "execution_count": 17,
   "id": "760dc8c7-1a31-4b99-87f0-f3b87f32d58b",
   "metadata": {},
   "outputs": [
    {
     "data": {
      "text/html": [
       "<div>\n",
       "<style scoped>\n",
       "    .dataframe tbody tr th:only-of-type {\n",
       "        vertical-align: middle;\n",
       "    }\n",
       "\n",
       "    .dataframe tbody tr th {\n",
       "        vertical-align: top;\n",
       "    }\n",
       "\n",
       "    .dataframe thead th {\n",
       "        text-align: right;\n",
       "    }\n",
       "</style>\n",
       "<table border=\"1\" class=\"dataframe\">\n",
       "  <thead>\n",
       "    <tr style=\"text-align: right;\">\n",
       "      <th></th>\n",
       "      <th>order_id</th>\n",
       "      <th>product_id</th>\n",
       "      <th>add_to_cart_order</th>\n",
       "      <th>reordered</th>\n",
       "    </tr>\n",
       "  </thead>\n",
       "  <tbody>\n",
       "    <tr>\n",
       "      <th>0</th>\n",
       "      <td>1</td>\n",
       "      <td>49302</td>\n",
       "      <td>1</td>\n",
       "      <td>1</td>\n",
       "    </tr>\n",
       "    <tr>\n",
       "      <th>1</th>\n",
       "      <td>1</td>\n",
       "      <td>11109</td>\n",
       "      <td>2</td>\n",
       "      <td>1</td>\n",
       "    </tr>\n",
       "    <tr>\n",
       "      <th>2</th>\n",
       "      <td>1</td>\n",
       "      <td>10246</td>\n",
       "      <td>3</td>\n",
       "      <td>0</td>\n",
       "    </tr>\n",
       "    <tr>\n",
       "      <th>3</th>\n",
       "      <td>1</td>\n",
       "      <td>49683</td>\n",
       "      <td>4</td>\n",
       "      <td>0</td>\n",
       "    </tr>\n",
       "    <tr>\n",
       "      <th>4</th>\n",
       "      <td>1</td>\n",
       "      <td>43633</td>\n",
       "      <td>5</td>\n",
       "      <td>1</td>\n",
       "    </tr>\n",
       "  </tbody>\n",
       "</table>\n",
       "</div>"
      ],
      "text/plain": [
       "   order_id  product_id  add_to_cart_order  reordered\n",
       "0         1       49302                  1          1\n",
       "1         1       11109                  2          1\n",
       "2         1       10246                  3          0\n",
       "3         1       49683                  4          0\n",
       "4         1       43633                  5          1"
      ]
     },
     "execution_count": 17,
     "metadata": {},
     "output_type": "execute_result"
    }
   ],
   "source": [
    "order_products__train.head()"
   ]
  },
  {
   "cell_type": "code",
   "execution_count": 18,
   "id": "46badd0c-79c9-48fc-b551-d61f46e6b630",
   "metadata": {},
   "outputs": [
    {
     "data": {
      "text/html": [
       "<div>\n",
       "<style scoped>\n",
       "    .dataframe tbody tr th:only-of-type {\n",
       "        vertical-align: middle;\n",
       "    }\n",
       "\n",
       "    .dataframe tbody tr th {\n",
       "        vertical-align: top;\n",
       "    }\n",
       "\n",
       "    .dataframe thead th {\n",
       "        text-align: right;\n",
       "    }\n",
       "</style>\n",
       "<table border=\"1\" class=\"dataframe\">\n",
       "  <thead>\n",
       "    <tr style=\"text-align: right;\">\n",
       "      <th></th>\n",
       "      <th>order_id</th>\n",
       "      <th>product_id</th>\n",
       "      <th>add_to_cart_order</th>\n",
       "      <th>reordered</th>\n",
       "    </tr>\n",
       "  </thead>\n",
       "  <tbody>\n",
       "    <tr>\n",
       "      <th>0</th>\n",
       "      <td>2.0</td>\n",
       "      <td>33120.0</td>\n",
       "      <td>1.0</td>\n",
       "      <td>1.0</td>\n",
       "    </tr>\n",
       "    <tr>\n",
       "      <th>1</th>\n",
       "      <td>2.0</td>\n",
       "      <td>28985.0</td>\n",
       "      <td>2.0</td>\n",
       "      <td>1.0</td>\n",
       "    </tr>\n",
       "    <tr>\n",
       "      <th>2</th>\n",
       "      <td>2.0</td>\n",
       "      <td>9327.0</td>\n",
       "      <td>3.0</td>\n",
       "      <td>0.0</td>\n",
       "    </tr>\n",
       "    <tr>\n",
       "      <th>3</th>\n",
       "      <td>2.0</td>\n",
       "      <td>45918.0</td>\n",
       "      <td>4.0</td>\n",
       "      <td>1.0</td>\n",
       "    </tr>\n",
       "    <tr>\n",
       "      <th>4</th>\n",
       "      <td>2.0</td>\n",
       "      <td>30035.0</td>\n",
       "      <td>5.0</td>\n",
       "      <td>0.0</td>\n",
       "    </tr>\n",
       "  </tbody>\n",
       "</table>\n",
       "</div>"
      ],
      "text/plain": [
       "   order_id  product_id  add_to_cart_order  reordered\n",
       "0       2.0     33120.0                1.0        1.0\n",
       "1       2.0     28985.0                2.0        1.0\n",
       "2       2.0      9327.0                3.0        0.0\n",
       "3       2.0     45918.0                4.0        1.0\n",
       "4       2.0     30035.0                5.0        0.0"
      ]
     },
     "execution_count": 18,
     "metadata": {},
     "output_type": "execute_result"
    }
   ],
   "source": [
    "order_products_prior.head()"
   ]
  },
  {
   "cell_type": "code",
   "execution_count": null,
   "id": "62e2eb75-3f33-41e7-81b3-256b22549636",
   "metadata": {},
   "outputs": [],
   "source": [
    "sample_submission.head()"
   ]
  },
  {
   "cell_type": "code",
   "execution_count": null,
   "id": "09b9ce4f-2206-4353-a2dd-c433eba332d2",
   "metadata": {},
   "outputs": [],
   "source": [
    "products.head()"
   ]
  },
  {
   "cell_type": "code",
   "execution_count": null,
   "id": "f28a6e80-5c09-42d8-8416-829aac685220",
   "metadata": {},
   "outputs": [],
   "source": [
    "orders.head()"
   ]
  },
  {
   "cell_type": "code",
   "execution_count": null,
   "id": "1c662dff-fe12-4652-a098-18fabb5e9a5c",
   "metadata": {},
   "outputs": [],
   "source": [
    "#tail() will display the bottom 5 obeservations of the datasets"
   ]
  },
  {
   "cell_type": "code",
   "execution_count": 19,
   "id": "0ea32404-128a-4739-994f-a598c2e8505e",
   "metadata": {},
   "outputs": [
    {
     "data": {
      "text/html": [
       "<div>\n",
       "<style scoped>\n",
       "    .dataframe tbody tr th:only-of-type {\n",
       "        vertical-align: middle;\n",
       "    }\n",
       "\n",
       "    .dataframe tbody tr th {\n",
       "        vertical-align: top;\n",
       "    }\n",
       "\n",
       "    .dataframe thead th {\n",
       "        text-align: right;\n",
       "    }\n",
       "</style>\n",
       "<table border=\"1\" class=\"dataframe\">\n",
       "  <thead>\n",
       "    <tr style=\"text-align: right;\">\n",
       "      <th></th>\n",
       "      <th>order_id</th>\n",
       "      <th>user_id</th>\n",
       "      <th>eval_set</th>\n",
       "      <th>order_number</th>\n",
       "      <th>order_dow</th>\n",
       "      <th>order_hour_of_day</th>\n",
       "      <th>days_since_prior_order</th>\n",
       "    </tr>\n",
       "  </thead>\n",
       "  <tbody>\n",
       "    <tr>\n",
       "      <th>3421078</th>\n",
       "      <td>2266710</td>\n",
       "      <td>206209</td>\n",
       "      <td>prior</td>\n",
       "      <td>10</td>\n",
       "      <td>5</td>\n",
       "      <td>18</td>\n",
       "      <td>29.0</td>\n",
       "    </tr>\n",
       "    <tr>\n",
       "      <th>3421079</th>\n",
       "      <td>1854736</td>\n",
       "      <td>206209</td>\n",
       "      <td>prior</td>\n",
       "      <td>11</td>\n",
       "      <td>4</td>\n",
       "      <td>10</td>\n",
       "      <td>30.0</td>\n",
       "    </tr>\n",
       "    <tr>\n",
       "      <th>3421080</th>\n",
       "      <td>626363</td>\n",
       "      <td>206209</td>\n",
       "      <td>prior</td>\n",
       "      <td>12</td>\n",
       "      <td>1</td>\n",
       "      <td>12</td>\n",
       "      <td>18.0</td>\n",
       "    </tr>\n",
       "    <tr>\n",
       "      <th>3421081</th>\n",
       "      <td>2977660</td>\n",
       "      <td>206209</td>\n",
       "      <td>prior</td>\n",
       "      <td>13</td>\n",
       "      <td>1</td>\n",
       "      <td>12</td>\n",
       "      <td>7.0</td>\n",
       "    </tr>\n",
       "    <tr>\n",
       "      <th>3421082</th>\n",
       "      <td>272231</td>\n",
       "      <td>206209</td>\n",
       "      <td>train</td>\n",
       "      <td>14</td>\n",
       "      <td>6</td>\n",
       "      <td>14</td>\n",
       "      <td>30.0</td>\n",
       "    </tr>\n",
       "  </tbody>\n",
       "</table>\n",
       "</div>"
      ],
      "text/plain": [
       "         order_id  user_id eval_set  order_number  order_dow  \\\n",
       "3421078   2266710   206209    prior            10          5   \n",
       "3421079   1854736   206209    prior            11          4   \n",
       "3421080    626363   206209    prior            12          1   \n",
       "3421081   2977660   206209    prior            13          1   \n",
       "3421082    272231   206209    train            14          6   \n",
       "\n",
       "         order_hour_of_day  days_since_prior_order  \n",
       "3421078                 18                    29.0  \n",
       "3421079                 10                    30.0  \n",
       "3421080                 12                    18.0  \n",
       "3421081                 12                     7.0  \n",
       "3421082                 14                    30.0  "
      ]
     },
     "execution_count": 19,
     "metadata": {},
     "output_type": "execute_result"
    }
   ],
   "source": [
    "aisles.tail()\n",
    "departments.tail()\n",
    "order_products__train.tail()\n",
    "order_products_prior.tail()\n",
    "sample_submission.tail()\n",
    "products.tail()\n",
    "orders.tail()\n"
   ]
  },
  {
   "cell_type": "code",
   "execution_count": null,
   "id": "cc16a3d1-4d29-4efb-b5cd-a63c542eddc9",
   "metadata": {},
   "outputs": [],
   "source": [
    "#data.info() helps to understand the data type and information about data, including the number of records in each column, \n",
    "#data having null or not null, Data type, the memory usage of the dataset."
   ]
  },
  {
   "cell_type": "code",
   "execution_count": 23,
   "id": "4a2d0e73-3c50-4ad5-bca1-c0e2f2ac1b37",
   "metadata": {},
   "outputs": [
    {
     "name": "stdout",
     "output_type": "stream",
     "text": [
      "<class 'pandas.core.frame.DataFrame'>\n",
      "RangeIndex: 134 entries, 0 to 133\n",
      "Data columns (total 2 columns):\n",
      " #   Column    Non-Null Count  Dtype \n",
      "---  ------    --------------  ----- \n",
      " 0   aisle_id  134 non-null    int64 \n",
      " 1   aisle     134 non-null    object\n",
      "dtypes: int64(1), object(1)\n",
      "memory usage: 2.2+ KB\n",
      "<class 'pandas.core.frame.DataFrame'>\n",
      "RangeIndex: 21 entries, 0 to 20\n",
      "Data columns (total 2 columns):\n",
      " #   Column         Non-Null Count  Dtype \n",
      "---  ------         --------------  ----- \n",
      " 0   department_id  21 non-null     int64 \n",
      " 1   department     21 non-null     object\n",
      "dtypes: int64(1), object(1)\n",
      "memory usage: 468.0+ bytes\n",
      "<class 'pandas.core.frame.DataFrame'>\n",
      "RangeIndex: 1384617 entries, 0 to 1384616\n",
      "Data columns (total 4 columns):\n",
      " #   Column             Non-Null Count    Dtype\n",
      "---  ------             --------------    -----\n",
      " 0   order_id           1384617 non-null  int64\n",
      " 1   product_id         1384617 non-null  int64\n",
      " 2   add_to_cart_order  1384617 non-null  int64\n",
      " 3   reordered          1384617 non-null  int64\n",
      "dtypes: int64(4)\n",
      "memory usage: 42.3 MB\n",
      "<class 'pandas.core.frame.DataFrame'>\n",
      "RangeIndex: 35083022 entries, 0 to 35083021\n",
      "Data columns (total 4 columns):\n",
      " #   Column             Dtype  \n",
      "---  ------             -----  \n",
      " 0   order_id           float64\n",
      " 1   product_id         float64\n",
      " 2   add_to_cart_order  float64\n",
      " 3   reordered          float64\n",
      "dtypes: float64(4)\n",
      "memory usage: 1.0 GB\n",
      "<class 'pandas.core.frame.DataFrame'>\n",
      "RangeIndex: 75000 entries, 0 to 74999\n",
      "Data columns (total 2 columns):\n",
      " #   Column    Non-Null Count  Dtype \n",
      "---  ------    --------------  ----- \n",
      " 0   order_id  75000 non-null  int64 \n",
      " 1   products  75000 non-null  object\n",
      "dtypes: int64(1), object(1)\n",
      "memory usage: 1.1+ MB\n",
      "<class 'pandas.core.frame.DataFrame'>\n",
      "RangeIndex: 49688 entries, 0 to 49687\n",
      "Data columns (total 4 columns):\n",
      " #   Column         Non-Null Count  Dtype \n",
      "---  ------         --------------  ----- \n",
      " 0   product_id     49688 non-null  int64 \n",
      " 1   product_name   49688 non-null  object\n",
      " 2   aisle_id       49688 non-null  int64 \n",
      " 3   department_id  49688 non-null  int64 \n",
      "dtypes: int64(3), object(1)\n",
      "memory usage: 1.5+ MB\n",
      "<class 'pandas.core.frame.DataFrame'>\n",
      "RangeIndex: 3421083 entries, 0 to 3421082\n",
      "Data columns (total 7 columns):\n",
      " #   Column                  Dtype  \n",
      "---  ------                  -----  \n",
      " 0   order_id                int64  \n",
      " 1   user_id                 int64  \n",
      " 2   eval_set                object \n",
      " 3   order_number            int64  \n",
      " 4   order_dow               int64  \n",
      " 5   order_hour_of_day       int64  \n",
      " 6   days_since_prior_order  float64\n",
      "dtypes: float64(1), int64(5), object(1)\n",
      "memory usage: 182.7+ MB\n"
     ]
    }
   ],
   "source": [
    "aisles.info()\n",
    "departments.info()\n",
    "order_products__train.info()\n",
    "order_products_prior.info()\n",
    "sample_submission.info()\n",
    "products.info()\n",
    "orders.info()"
   ]
  },
  {
   "cell_type": "code",
   "execution_count": null,
   "id": "e6a9c98c-3b63-4a8c-bbe8-b441d71e9371",
   "metadata": {},
   "outputs": [],
   "source": [
    "# Check for duplicate values using nunique()"
   ]
  },
  {
   "cell_type": "code",
   "execution_count": 22,
   "id": "5a81c19c-9b65-461f-9733-3592a7c1cc93",
   "metadata": {},
   "outputs": [
    {
     "data": {
      "text/plain": [
       "order_id                  3421083\n",
       "user_id                    206209\n",
       "eval_set                        3\n",
       "order_number                  100\n",
       "order_dow                       7\n",
       "order_hour_of_day              24\n",
       "days_since_prior_order         31\n",
       "dtype: int64"
      ]
     },
     "execution_count": 22,
     "metadata": {},
     "output_type": "execute_result"
    }
   ],
   "source": [
    "departments.nunique()\n",
    "order_products__train.nunique()\n",
    "order_products_prior.nunique()\n",
    "sample_submission.nunique()\n",
    "products.nunique()\n",
    "aisles.nunique()\n",
    "orders.nunique()"
   ]
  },
  {
   "cell_type": "code",
   "execution_count": 24,
   "id": "37e23776-43c8-44e4-9440-afee95c846f5",
   "metadata": {},
   "outputs": [
    {
     "data": {
      "text/plain": [
       "department_id    21\n",
       "department       21\n",
       "dtype: int64"
      ]
     },
     "execution_count": 24,
     "metadata": {},
     "output_type": "execute_result"
    }
   ],
   "source": [
    "departments.nunique()"
   ]
  },
  {
   "cell_type": "code",
   "execution_count": 25,
   "id": "81fc7826-2676-47d9-98c9-1787bc024afc",
   "metadata": {},
   "outputs": [
    {
     "data": {
      "text/plain": [
       "order_id             131209\n",
       "product_id            39123\n",
       "add_to_cart_order        80\n",
       "reordered                 2\n",
       "dtype: int64"
      ]
     },
     "execution_count": 25,
     "metadata": {},
     "output_type": "execute_result"
    }
   ],
   "source": [
    "order_products__train.nunique()"
   ]
  },
  {
   "cell_type": "code",
   "execution_count": 26,
   "id": "14bdf02b-2455-40ce-a41e-90881d174b8f",
   "metadata": {},
   "outputs": [
    {
     "data": {
      "text/plain": [
       "order_id             3214886\n",
       "product_id             49683\n",
       "add_to_cart_order        146\n",
       "reordered                  3\n",
       "dtype: int64"
      ]
     },
     "execution_count": 26,
     "metadata": {},
     "output_type": "execute_result"
    }
   ],
   "source": [
    "order_products_prior.nunique()"
   ]
  },
  {
   "cell_type": "code",
   "execution_count": 27,
   "id": "06ee1df9-5e64-4340-85fa-530f4a8574d3",
   "metadata": {},
   "outputs": [
    {
     "data": {
      "text/plain": [
       "order_id    75000\n",
       "products        1\n",
       "dtype: int64"
      ]
     },
     "execution_count": 27,
     "metadata": {},
     "output_type": "execute_result"
    }
   ],
   "source": [
    "sample_submission.nunique()"
   ]
  },
  {
   "cell_type": "code",
   "execution_count": 28,
   "id": "86261286-1e6d-4960-9b22-0bcbac031e8f",
   "metadata": {},
   "outputs": [
    {
     "data": {
      "text/plain": [
       "product_id       49688\n",
       "product_name     49688\n",
       "aisle_id           134\n",
       "department_id       21\n",
       "dtype: int64"
      ]
     },
     "execution_count": 28,
     "metadata": {},
     "output_type": "execute_result"
    }
   ],
   "source": [
    "products.nunique()"
   ]
  },
  {
   "cell_type": "code",
   "execution_count": 29,
   "id": "d2dbac9e-241a-443e-b67c-cae377923cb6",
   "metadata": {},
   "outputs": [
    {
     "data": {
      "text/plain": [
       "aisle_id    134\n",
       "aisle       134\n",
       "dtype: int64"
      ]
     },
     "execution_count": 29,
     "metadata": {},
     "output_type": "execute_result"
    }
   ],
   "source": [
    "aisles.nunique()"
   ]
  },
  {
   "cell_type": "code",
   "execution_count": 30,
   "id": "2a036242-1c1a-4a5d-b6c1-bd547b2058e8",
   "metadata": {},
   "outputs": [
    {
     "data": {
      "text/plain": [
       "order_id                  3421083\n",
       "user_id                    206209\n",
       "eval_set                        3\n",
       "order_number                  100\n",
       "order_dow                       7\n",
       "order_hour_of_day              24\n",
       "days_since_prior_order         31\n",
       "dtype: int64"
      ]
     },
     "execution_count": 30,
     "metadata": {},
     "output_type": "execute_result"
    }
   ],
   "source": [
    "orders.nunique()"
   ]
  },
  {
   "cell_type": "code",
   "execution_count": null,
   "id": "573fef8c-0f1d-4a64-aee2-fe40bb3c2d49",
   "metadata": {},
   "outputs": [],
   "source": []
  },
  {
   "cell_type": "code",
   "execution_count": null,
   "id": "9f5116a3-40c8-406f-9d99-4a1241e93885",
   "metadata": {},
   "outputs": [],
   "source": [
    "#isnull().sum()  used to check the missing values in the datasets."
   ]
  },
  {
   "cell_type": "code",
   "execution_count": 31,
   "id": "d2ae7b65-37f5-4b9d-aa43-3cf6a35155d4",
   "metadata": {},
   "outputs": [
    {
     "name": "stdout",
     "output_type": "stream",
     "text": [
      "order_id                       0\n",
      "user_id                        0\n",
      "eval_set                       0\n",
      "order_number                   0\n",
      "order_dow                      0\n",
      "order_hour_of_day              0\n",
      "days_since_prior_order    206209\n",
      "dtype: int64\n",
      "order_id              1\n",
      "product_id            1\n",
      "add_to_cart_order    11\n",
      "reordered            33\n",
      "dtype: int64\n",
      "product_id       0\n",
      "product_name     0\n",
      "aisle_id         0\n",
      "department_id    0\n",
      "dtype: int64\n",
      "department_id    0\n",
      "department       0\n",
      "dtype: int64\n",
      "aisle_id    0\n",
      "aisle       0\n",
      "dtype: int64\n",
      "order_id             0\n",
      "product_id           0\n",
      "add_to_cart_order    0\n",
      "reordered            0\n",
      "dtype: int64\n",
      "order_id    0\n",
      "products    0\n",
      "dtype: int64\n"
     ]
    }
   ],
   "source": [
    "print(orders.isnull().sum())\n",
    "print(order_products_prior.isnull().sum())\n",
    "print(products.isnull().sum())\n",
    "print(departments.isnull().sum())\n",
    "print(aisles.isnull().sum())\n",
    "print(order_products__train.isnull().sum())\n",
    "print(sample_submission.isnull().sum())\n",
    "\n"
   ]
  },
  {
   "cell_type": "code",
   "execution_count": 32,
   "id": "b44a1577-cb82-4a07-b307-98920cd89621",
   "metadata": {},
   "outputs": [
    {
     "name": "stdout",
     "output_type": "stream",
     "text": [
      "order_id                    int64\n",
      "user_id                     int64\n",
      "eval_set                   object\n",
      "order_number                int64\n",
      "order_dow                   int64\n",
      "order_hour_of_day           int64\n",
      "days_since_prior_order    float64\n",
      "dtype: object\n"
     ]
    }
   ],
   "source": [
    "print(orders.dtypes)"
   ]
  },
  {
   "cell_type": "code",
   "execution_count": 33,
   "id": "3df71795-d7f6-40d7-b8f0-62b7b994d100",
   "metadata": {},
   "outputs": [
    {
     "name": "stdout",
     "output_type": "stream",
     "text": [
      "\n",
      "Distribution of 'eval_set' in orders dataset:\n",
      "eval_set\n",
      "prior    3214874\n",
      "train     131209\n",
      "test       75000\n",
      "Name: count, dtype: int64\n"
     ]
    }
   ],
   "source": [
    "print(\"\\nDistribution of 'eval_set' in orders dataset:\")\n",
    "print(orders['eval_set'].value_counts())"
   ]
  },
  {
   "cell_type": "code",
   "execution_count": 34,
   "id": "c2b1d8fb-0233-471a-b7db-1c88358f97d7",
   "metadata": {},
   "outputs": [
    {
     "name": "stdout",
     "output_type": "stream",
     "text": [
      "Orders dataset shape: (3421083, 7)\n",
      "\n",
      "Columns in orders dataset:\n",
      "Index(['order_id', 'user_id', 'eval_set', 'order_number', 'order_dow',\n",
      "       'order_hour_of_day', 'days_since_prior_order'],\n",
      "      dtype='object')\n"
     ]
    }
   ],
   "source": [
    "# Display basic information about the orders dataset\n",
    "print(\"Orders dataset shape:\", orders.shape)\n",
    "print(\"\\nColumns in orders dataset:\")\n",
    "print(orders.columns)\n",
    "\n"
   ]
  },
  {
   "cell_type": "code",
   "execution_count": null,
   "id": "2d1881bb-8699-4a86-91e5-d274d821ef77",
   "metadata": {},
   "outputs": [],
   "source": [
    "#Merging Data to get more clear view"
   ]
  },
  {
   "cell_type": "code",
   "execution_count": null,
   "id": "80a1a1fd-7859-4c4d-aaf6-9a303232bfdc",
   "metadata": {},
   "outputs": [],
   "source": [
    "#1. Merge orders and order_products_prior w.r.t order_id to link orders with product details"
   ]
  },
  {
   "cell_type": "code",
   "execution_count": 74,
   "id": "d293b201-8f98-4f5b-b30b-eb5210daa99a",
   "metadata": {},
   "outputs": [],
   "source": [
    "# Merge datasets to get complete order information with product details\n",
    "merged_order_detail = pd.merge(orders, order_products_prior, on='order_id')\n",
    "order_details = pd.merge(merged_order_detail, products, on='product_id')"
   ]
  },
  {
   "cell_type": "code",
   "execution_count": null,
   "id": "6045cb39-a1fb-400f-8161-57a79efb5ccc",
   "metadata": {},
   "outputs": [],
   "source": [
    "#BEST SELLER"
   ]
  },
  {
   "cell_type": "code",
   "execution_count": 75,
   "id": "07a61663-cad4-400d-b987-590d674714ab",
   "metadata": {},
   "outputs": [],
   "source": [
    "# Calculate total sales \n",
    "calculate_product_sales = order_details['product_name'].value_counts()\n"
   ]
  },
  {
   "cell_type": "code",
   "execution_count": 77,
   "id": "851fb7c4-e6fe-4f89-9633-f60ff21b54f1",
   "metadata": {},
   "outputs": [],
   "source": [
    "best_selling_products = calculate_product_sales.idxmax()"
   ]
  },
  {
   "cell_type": "code",
   "execution_count": 80,
   "id": "404a22d6-3ba8-4964-80aa-31198b366435",
   "metadata": {},
   "outputs": [
    {
     "name": "stdout",
     "output_type": "stream",
     "text": [
      "The best Seller\n",
      "Banana\n"
     ]
    }
   ],
   "source": [
    "print(\"The best Seller\")\n",
    "print(best_selling_products)"
   ]
  },
  {
   "cell_type": "code",
   "execution_count": null,
   "id": "8feb07d7-f78e-4dcd-867f-adf9128324e7",
   "metadata": {},
   "outputs": [],
   "source": []
  },
  {
   "cell_type": "code",
   "execution_count": 82,
   "id": "1520c26e-b6cf-48be-bac3-68b7b15fd080",
   "metadata": {},
   "outputs": [
    {
     "data": {
      "image/png": "[encoded data removed]",
      "text/plain": [
       "<Figure size 800x400 with 1 Axes>"
      ]
     },
     "metadata": {},
     "output_type": "display_data"
    },
    {
     "name": "stdout",
     "output_type": "stream",
     "text": [
      "The best selling product is: product_name\n",
      "Banana    510789\n",
      "Name: count, dtype: int64\n"
     ]
    }
   ],
   "source": [
    "top_products = calculate_product_sales.head(10)  # Displaying top 10 products for example\n",
    "plt.figure(figsize=(8, 4))\n",
    "top_products.plot(kind='bar')\n",
    "plt.title('Top Selling Products')\n",
    "plt.xlabel('Product Name')\n",
    "plt.ylabel('Number of Orders')\n",
    "plt.xticks(rotation=45)\n",
    "plt.tight_layout()\n",
    "plt.show()\n",
    "\n",
    "print(f\"The best selling product is: {best_selling_product}\")"
   ]
  },
  {
   "cell_type": "code",
   "execution_count": null,
   "id": "19ecb067-44e5-4ebb-bb75-9e3997934684",
   "metadata": {},
   "outputs": [],
   "source": []
  },
  {
   "cell_type": "code",
   "execution_count": null,
   "id": "5809b8eb-dcf9-4152-9cc4-c14f6809a217",
   "metadata": {},
   "outputs": [],
   "source": []
  },
  {
   "cell_type": "code",
   "execution_count": null,
   "id": "a1eb9c37-a326-4a3e-a6bc-52810ee3e5d5",
   "metadata": {},
   "outputs": [],
   "source": [
    "#BEST DEPARTMENT"
   ]
  },
  {
   "cell_type": "code",
   "execution_count": 41,
   "id": "1145368d-3919-429d-9691-6aaaef6f6b0e",
   "metadata": {},
   "outputs": [],
   "source": [
    "# Merge datasets to get complete order information with product and department details\n",
    "Dept_details = pd.merge(order_products_prior, products, on='product_id')\n",
    "Dept_details = pd.merge(Dept_details, departments, on='department_id')\n",
    "\n",
    "# Calculate total sales \n",
    "department_sales = Dept_details['department'].value_counts()\n",
    "\n",
    "# Determine the best department\n",
    "best_department = department_sales.idxmax() "
   ]
  },
  {
   "cell_type": "code",
   "execution_count": 46,
   "id": "b40ff1c8-3196-4f10-b902-dbe7a1b16b27",
   "metadata": {},
   "outputs": [
    {
     "name": "stdout",
     "output_type": "stream",
     "text": [
      "The best Department\n",
      "produce\n"
     ]
    }
   ],
   "source": [
    "print(\"The best Department\")\n",
    "print(best_department)"
   ]
  },
  {
   "cell_type": "code",
   "execution_count": null,
   "id": "9c00adc1-3d93-4003-9125-52c88b881ed7",
   "metadata": {},
   "outputs": [],
   "source": []
  },
  {
   "cell_type": "code",
   "execution_count": 71,
   "id": "5e20e6f4-beea-4139-bce6-cf6120f0a473",
   "metadata": {},
   "outputs": [
    {
     "data": {
      "image/png": "[encoded data removed]",
      "text/plain": [
       "<Figure size 800x400 with 1 Axes>"
      ]
     },
     "metadata": {},
     "output_type": "display_data"
    },
    {
     "name": "stdout",
     "output_type": "stream",
     "text": [
      "The best department is: produce\n"
     ]
    }
   ],
   "source": [
    "plt.figure(figsize=(8, 4))\n",
    "department_sales.plot(kind='bar',color='blue')\n",
    "plt.title('Sales by Department')\n",
    "plt.xlabel('Department')\n",
    "plt.ylabel('Number of Orders')\n",
    "plt.xticks(rotation=45)\n",
    "plt.tight_layout()\n",
    "plt.show()\n",
    "\n",
    "print(f\"The best department is: {best_department}\")"
   ]
  },
  {
   "cell_type": "code",
   "execution_count": null,
   "id": "a06e5a13-9aee-4fac-a116-ea77942f2626",
   "metadata": {},
   "outputs": [],
   "source": []
  },
  {
   "cell_type": "code",
   "execution_count": null,
   "id": "543585b2-6931-4ab3-8a37-2b9c7da5aa9e",
   "metadata": {},
   "outputs": [],
   "source": []
  },
  {
   "cell_type": "code",
   "execution_count": null,
   "id": "0b140b6c-1448-44fb-a67d-6b670833a8a8",
   "metadata": {},
   "outputs": [],
   "source": [
    "#Busiest day of the week "
   ]
  },
  {
   "cell_type": "code",
   "execution_count": 35,
   "id": "5dc44adb-125a-4bb7-97fd-20f859a2bb90",
   "metadata": {},
   "outputs": [],
   "source": [
    "# Count the number of orders for each day of the week\n",
    "order_count_by_day = orders['order_dow'].value_counts().sort_index()\n",
    "\n",
    "# Mapping day of week to names\n",
    "days_map = {0: 'Sunday', 1: 'Monday', 2: 'Tuesday', 3: 'Wednesday', 4: 'Thursday', 5: 'Friday', 6: 'Saturday'}\n",
    "order_count_by_day.index = order_count_by_day.index.map(days_map)\n",
    "\n",
    "# Determine the busiest day\n",
    "busiest_day = order_count_by_day.idxmax()\n",
    "max_orders = order_count_by_day.max()\n"
   ]
  },
  {
   "cell_type": "code",
   "execution_count": 55,
   "id": "7e6f58e5-52f6-404c-b5e2-eb3d24d4dbae",
   "metadata": {},
   "outputs": [
    {
     "name": "stdout",
     "output_type": "stream",
     "text": [
      "Sunday 600905\n"
     ]
    }
   ],
   "source": [
    "print(busiest_day,max_orders)"
   ]
  },
  {
   "cell_type": "code",
   "execution_count": null,
   "id": "2e9ffbcc-97f5-430d-8a5e-cc9b4cfdfdcd",
   "metadata": {},
   "outputs": [],
   "source": []
  },
  {
   "cell_type": "code",
   "execution_count": 72,
   "id": "e0f0666d-bb08-4c40-bef2-77e9573a39d1",
   "metadata": {},
   "outputs": [
    {
     "data": {
      "image/png": "[encoded data removed]",
      "text/plain": [
       "<Figure size 800x400 with 1 Axes>"
      ]
     },
     "metadata": {},
     "output_type": "display_data"
    },
    {
     "name": "stdout",
     "output_type": "stream",
     "text": [
      "The busiest day of the week is Sunday with 600905 orders.\n"
     ]
    }
   ],
   "source": [
    " #Visualize the order frequencies by day of the week\n",
    "plt.figure(figsize=(8, 4))\n",
    "order_count_by_day.plot(kind='bar', color='purple')\n",
    "plt.title('Day of the Week')\n",
    "plt.xlabel('Day of the Week')\n",
    "plt.ylabel('Number of Orders')\n",
    "plt.xticks(rotation=45)\n",
    "plt.tight_layout()\n",
    "plt.show()\n",
    "\n",
    "print(f\"The busiest day of the week is {busiest_day} with {max_orders} orders.\")"
   ]
  },
  {
   "cell_type": "code",
   "execution_count": null,
   "id": "7270bf76-6f95-426b-9095-588e9044c35c",
   "metadata": {},
   "outputs": [],
   "source": []
  },
  {
   "cell_type": "code",
   "execution_count": null,
   "id": "69b7459b-a3c1-471a-bd12-850c5a07af55",
   "metadata": {},
   "outputs": [],
   "source": [
    "#Busiest hour of the day"
   ]
  },
  {
   "cell_type": "code",
   "execution_count": 73,
   "id": "d7c26215-d3e5-4c7a-8d42-4af92a57deb7",
   "metadata": {},
   "outputs": [
    {
     "data": {
      "image/png": "[encoded data removed]",
      "text/plain": [
       "<Figure size 800x400 with 1 Axes>"
      ]
     },
     "metadata": {},
     "output_type": "display_data"
    }
   ],
   "source": [
    "# Count orders by hour of day\n",
    "order_count_by_hour = orders['order_hour_of_day'].value_counts().sort_index()\n",
    "\n",
    "# Plotting the distribution\n",
    "plt.figure(figsize=(8, 4))\n",
    "sns.lineplot(x=order_count_by_hour.index, y=order_count_by_hour.values, color='red')\n",
    "plt.title('Distribution of Orders by Hour of Day')\n",
    "plt.xlabel('Hour of Day')\n",
    "plt.ylabel('Number of Orders')\n",
    "plt.xticks(range(0, 25, 1))\n",
    "plt.grid(True)\n",
    "plt.show()"
   ]
  },
  {
   "cell_type": "code",
   "execution_count": null,
   "id": "de7b0cec-42c1-46c1-95f1-93be74e038c0",
   "metadata": {},
   "outputs": [],
   "source": [
    "#Histogram of customer retention (reordering)\n",
    "#Retention1: Number of Customers vs number of orders\n",
    "#Retention2: Number of products vs number of reorders"
   ]
  },
  {
   "cell_type": "code",
   "execution_count": null,
   "id": "1e8bff24-a26f-4e78-b289-0cbb4064e1e1",
   "metadata": {},
   "outputs": [],
   "source": [
    "#Retention1: Number of Customers vs number of orders"
   ]
  },
  {
   "cell_type": "code",
   "execution_count": 98,
   "id": "7127a995-f3ea-468e-8c2d-dd8a14e50bff",
   "metadata": {},
   "outputs": [
    {
     "data": {
      "image/png": "[encoded data removed]",
      "text/plain": [
       "<Figure size 1100x500 with 1 Axes>"
      ]
     },
     "metadata": {},
     "output_type": "display_data"
    }
   ],
   "source": [
    "\n",
    "# Calculate number of orders per customer\n",
    "orders_per_customer = merged_order_detail.groupby('user_id')['order_number'].max().value_counts().sort_index()\n",
    "\n",
    "# Plotting histogram of number of orders per customer\n",
    "plt.figure(figsize=(11,5))\n",
    "plt.bar(orders_per_customer.index, orders_per_customer.values, color='brown')\n",
    "plt.xlabel('Number of Orders')\n",
    "plt.ylabel('Number of Customers')\n",
    "plt.title('Retention 1: Customer Retention Based on Number of Orders')\n",
    "plt.xticks(rotation=45)\n",
    "#plt.grid(axis='y', linestyle='--', alpha=0.7)\n",
    "plt.show()"
   ]
  },
  {
   "cell_type": "code",
   "execution_count": null,
   "id": "9761dfe1-4035-49bc-9787-54e59c168dea",
   "metadata": {},
   "outputs": [],
   "source": []
  },
  {
   "cell_type": "code",
   "execution_count": null,
   "id": "8d6e6f33-cc20-417d-ac4a-66c617fd0fb3",
   "metadata": {},
   "outputs": [],
   "source": [
    "#Retention2: Number of products vs number of reorders"
   ]
  },
  {
   "cell_type": "code",
   "execution_count": 51,
   "id": "94968030-7b9b-42bb-bd6c-2b0553ca50bc",
   "metadata": {},
   "outputs": [
    {
     "data": {
      "image/png": "[encoded data removed]",
      "text/plain": [
       "<Figure size 1000x600 with 1 Axes>"
      ]
     },
     "metadata": {},
     "output_type": "display_data"
    }
   ],
   "source": [
    "# Calculate reorder for each product\n",
    "reorder_counts = order_products_prior.groupby('product_id')['reordered'].sum()\n",
    "\n",
    "# Plot histogram of number of products vs. number of reorders\n",
    "\n",
    "\n",
    "plt.figure(figsize=(10, 6))\n",
    "plt.hist(reorder_counts,bins = 50,color='skyblue')\n",
    "plt.title('Number of Reorders per Product')\n",
    "plt.xlabel('Number of Reorders')\n",
    "plt.ylabel('Number of Products')\n",
    "plt.xticks(rotation=45)\n",
    "plt.show()"
   ]
  },
  {
   "cell_type": "code",
   "execution_count": 12,
   "id": "3dac8b34-32be-4af1-8318-b131884f9ff8",
   "metadata": {},
   "outputs": [
    {
     "name": "stdout",
     "output_type": "stream",
     "text": [
      "                   order_dow  order_hour_of_day  reordered\n",
      "order_dow           1.000000           0.012028  -0.007129\n",
      "order_hour_of_day   0.012028           1.000000  -0.023500\n",
      "reordered          -0.007129          -0.023500   1.000000\n"
     ]
    },
    {
     "data": {
      "image/png": "[encoded data removed]",
      "text/plain": [
       "<Figure size 800x600 with 2 Axes>"
      ]
     },
     "metadata": {},
     "output_type": "display_data"
    }
   ],
   "source": [
    "merged = pd.merge(order_products_prior, products, on='product_id')\n",
    "merged = pd.merge(merged, orders, on='order_id')\n",
    "\n",
    "\n",
    "\n",
    "numeric_columns = ['order_dow', 'order_hour_of_day', 'reordered']\n",
    "\n",
    "# Calculate correlation matrix\n",
    "correlation_matrix = merged[numeric_columns].corr()\n",
    "\n",
    "# Display correlation matrix\n",
    "print(correlation_matrix)\n",
    "\n",
    "plt.figure(figsize=(8, 6))\n",
    "sns.heatmap(correlation_matrix, annot=True, cmap='coolwarm', vmin=-1, vmax=1)\n",
    "plt.title('Correlation Matrix')\n",
    "plt.show()"
   ]
  },
  {
   "cell_type": "code",
   "execution_count": null,
   "id": "61ccf0e3-1957-417b-9b81-f089535aed6a",
   "metadata": {},
   "outputs": [],
   "source": []
  }
 ],
 "metadata": {
  "kernelspec": {
   "display_name": "Python 3 (ipykernel)",
   "language": "python",
   "name": "python3"
  },
  "language_info": {
   "codemirror_mode": {
    "name": "ipython",
    "version": 3
   },
   "file_extension": ".py",
   "mimetype": "text/x-python",
   "name": "python",
   "nbconvert_exporter": "python",
   "pygments_lexer": "ipython3",
   "version": "3.12.4"
  }
 },
 "nbformat": 4,
 "nbformat_minor": 5
}
